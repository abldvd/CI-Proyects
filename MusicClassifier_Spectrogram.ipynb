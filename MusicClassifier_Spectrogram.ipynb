{
  "nbformat": 4,
  "nbformat_minor": 0,
  "metadata": {
    "colab": {
      "name": "MusicClassifier - Spectrogram.ipynb",
      "provenance": [],
      "collapsed_sections": [],
      "authorship_tag": "ABX9TyMlUBXPLWbqxjVJSNH9NjD1",
      "include_colab_link": true
    },
    "kernelspec": {
      "name": "python3",
      "display_name": "Python 3"
    },
    "language_info": {
      "name": "python"
    },
    "accelerator": "GPU"
  },
  "cells": [
    {
      "cell_type": "markdown",
      "metadata": {
        "id": "view-in-github",
        "colab_type": "text"
      },
      "source": [
        "<a href=\"https://colab.research.google.com/github/abldvd/CI-Proyects/blob/main/MusicClassifier_Spectrogram.ipynb\" target=\"_parent\"><img src=\"https://colab.research.google.com/assets/colab-badge.svg\" alt=\"Open In Colab\"/></a>"
      ]
    },
    {
      "cell_type": "code",
      "metadata": {
        "id": "FT2ajL7xd7SK",
        "colab": {
          "base_uri": "https://localhost:8080/"
        },
        "outputId": "96d87650-571d-4369-8a47-9defb260293d"
      },
      "source": [
        "!pip install pydub"
      ],
      "execution_count": null,
      "outputs": [
        {
          "output_type": "stream",
          "name": "stdout",
          "text": [
            "Collecting pydub\n",
            "  Downloading pydub-0.25.1-py2.py3-none-any.whl (32 kB)\n",
            "Installing collected packages: pydub\n",
            "Successfully installed pydub-0.25.1\n"
          ]
        }
      ]
    },
    {
      "cell_type": "code",
      "metadata": {
        "colab": {
          "base_uri": "https://localhost:8080/"
        },
        "id": "DEpM_q484tny",
        "outputId": "c2fb10a1-9ab7-41bc-de34-e38a2efa6e56"
      },
      "source": [
        "from google.colab import drive\n",
        "drive.mount('/content/drive')"
      ],
      "execution_count": null,
      "outputs": [
        {
          "output_type": "stream",
          "name": "stdout",
          "text": [
            "Mounted at /content/drive\n"
          ]
        }
      ]
    },
    {
      "cell_type": "code",
      "metadata": {
        "colab": {
          "base_uri": "https://localhost:8080/"
        },
        "id": "TjwjdQN8ZX_L",
        "outputId": "695454cb-3cee-47ab-cd3e-4cff141152a3"
      },
      "source": [
        "PATH = 'drive/MyDrive/Colab Notebooks/datasets/music_files/test'\n",
        "MAX_AUDIO_LEN = 60\n",
        "BIN_SIZE = 2**11\n",
        "!ls drive/MyDrive/'Colab Notebooks'/datasets/music_files/test"
      ],
      "execution_count": null,
      "outputs": [
        {
          "output_type": "stream",
          "name": "stdout",
          "text": [
            "Classical  Rock  Synthwave\n"
          ]
        }
      ]
    },
    {
      "cell_type": "code",
      "metadata": {
        "id": "Kt5aeFV_ZefS"
      },
      "source": [
        "import os\n",
        "import math\n",
        "import librosa\n",
        "import numpy as np\n",
        "import random as rd\n",
        "from pydub import AudioSegment \n",
        "from pydub.utils import make_chunks\n",
        "from scipy.io import wavfile\n",
        "from tempfile import mktemp\n",
        "from sklearn.preprocessing import LabelEncoder\n",
        "from sklearn.model_selection import train_test_split\n",
        "import tensorflow as tf\n",
        "from tensorflow import keras\n",
        "from tensorflow.keras import layers\n",
        "from tensorflow.keras.callbacks import EarlyStopping"
      ],
      "execution_count": null,
      "outputs": []
    },
    {
      "cell_type": "code",
      "metadata": {
        "id": "qcdnkMggcN5S"
      },
      "source": [
        "def mp32wav(mp3_path, len=None):\n",
        "  mp3_audio = AudioSegment.from_file(mp3_path, format=\"mp3\")  # read mp3\n",
        "  if len and len > mp3_audio.duration_seconds:\n",
        "      raise Exception('Fixed lenght greater than file lenght')\n",
        "  wname = mktemp('.wav')  # use temporary file\n",
        "  if len:\n",
        "    random_midpoint = np.random.randint(int(len*1000/2), int(mp3_audio.duration_seconds*1000 - len*1000/2))\n",
        "    mp3_audio = mp3_audio[\n",
        "      random_midpoint - len*1000/2:  \n",
        "      random_midpoint + len*1000/2] # crop and save to wav\n",
        "  mp3_audio.export(wname, format=\"wav\")  \n",
        "  rate, audio = wavfile.read(wname)  # read as wav file\n",
        "  os.remove(wname) # dont want leaks here\n",
        "  return audio, rate"
      ],
      "execution_count": null,
      "outputs": []
    },
    {
      "cell_type": "code",
      "metadata": {
        "id": "wu-Nx0GjcC0X"
      },
      "source": [
        "def getSpectrogram(mp3_path, bin_size, len): \n",
        "  audio, rate = mp32wav(mp3_path, len)  # get wave file  \n",
        "  audio = np.mean(audio, axis=1)\n",
        "\n",
        "  spectrum = librosa.stft(audio, n_fft=bin_size, hop_length=int(rate))\n",
        "  return spectrum[:, :-1].reshape(spectrum[:, :-1].shape + (1,))"
      ],
      "execution_count": null,
      "outputs": []
    },
    {
      "cell_type": "code",
      "metadata": {
        "id": "bbjSNeVXZ_ny"
      },
      "source": [
        "def loadSpectrumData(path, seed=1234, file_limit=200):\n",
        "  # Loads data from a main folder, having the option to split into validation or training \n",
        "  first_file_shape = getSpectrogram(f'{path}/{os.listdir(path)[0]}/{os.listdir(f\"{path}/{os.listdir(path)[0]}\")[0]}', BIN_SIZE, MAX_AUDIO_LEN).shape\n",
        "  num_files = int(sum([len(os.listdir(f'{path}/{class_folder}')[:file_limit]) for class_folder in os.listdir(path)]))\n",
        "  num_classes = len(os.listdir(path))\n",
        "                             # Inits   \n",
        "  X = np.zeros((num_files,) + first_file_shape, dtype = 'complex_')  # Lets assume every spectrum will have the same shape\n",
        "  y = np.zeros(num_files, dtype=str)\n",
        "\n",
        "  rd.seed(seed)\n",
        "  last_i = 0\n",
        "  for class_folder in os.listdir(path): # Iterating over the classes\n",
        "    file_list = os.listdir(f'{path}/{class_folder}')\n",
        "    rd.shuffle(file_list)\n",
        "    if file_limit:       # Appliying memory limits and randomizing\n",
        "      file_list = file_list[:file_limit]\n",
        "      rd.shuffle(file_list)\n",
        "\n",
        "    for i, file_name in enumerate(file_list): \n",
        "      try:                 \n",
        "                              # Iterating and loading spectrum\n",
        "        X[last_i+i,] = getSpectrogram(f'{path}/{class_folder}/{file_name}', BIN_SIZE, MAX_AUDIO_LEN)\n",
        "\n",
        "      except ValueError as v: # Our assumption was wrong, some files had a rounding error and had one less half a second\n",
        "        missed_file = getSpectrogram(f'{path}/{class_folder}/{file_name}', BIN_SIZE, MAX_AUDIO_LEN) \n",
        "        X[last_i+i,] = np.c_[missed_file, np.ones(np.shape(missed_file)[0], dtype = 'complex_')] # Lets add something so we dont lose the sample\n",
        "      y[last_i+i] = class_folder\n",
        "    last_i += i+1\n",
        "        \n",
        "  lb = LabelEncoder() # Transforming y to categorical\n",
        "  y = keras.utils.to_categorical(lb.fit_transform(y), num_classes=num_classes)\n",
        "  return X,  y"
      ],
      "execution_count": null,
      "outputs": []
    },
    {
      "cell_type": "code",
      "metadata": {
        "id": "ZnITfiO4zLZB"
      },
      "source": [
        "# DATA --------------------------------------------------------------\n",
        "num_classes = len(os.listdir(PATH))\n",
        "input_shape = getSpectrogram(f'{PATH}/{os.listdir(PATH)[0]}/{os.listdir(f\"{PATH}/{os.listdir(PATH)[0]}\")[0]}', BIN_SIZE, MAX_AUDIO_LEN).shape\n",
        "X, y = loadSpectrumData(PATH)\n",
        "X_train, X_test, y_train, y_test = train_test_split(X, y, test_size=0.33, random_state=42)"
      ],
      "execution_count": null,
      "outputs": []
    },
    {
      "cell_type": "code",
      "metadata": {
        "id": "WdBO5g-JzYZG"
      },
      "source": [
        "# MODEL ------------------------------------------------------------\n",
        "model = keras.Sequential() \n",
        "model.add(layers.BatchNormalization(input_shape=input_shape))\n",
        "model.add(layers.Conv2D(50, kernel_size=(4, 2), strides=(4, 1), activation='relu'))\n",
        "model.add(layers.Dropout(0.125))\n",
        "model.add(layers.AveragePooling2D(pool_size=(2, 3)))\n",
        "model.add(layers.Conv2D(100, kernel_size=(4, 2), strides=(4, 1), activation='relu'))\n",
        "model.add(layers.Dropout(0.25))\n",
        "model.add(layers.AveragePooling2D(pool_size=(2, 3)))\n",
        "model.add(layers.Conv2D(200, kernel_size=(4, 2), strides=(4, 1), activation='relu'))\n",
        "model.add(layers.Dropout(0.5))\n",
        "model.add(layers.AveragePooling2D(pool_size=(2, 3)))\n",
        "\n",
        "\n",
        "model.add(layers.Flatten())\n",
        "model.add(layers.Dense(128, activation='relu'))\n",
        "model.add(layers.Dense(num_classes, activation='softmax'))\n",
        "\n",
        "model.compile(loss=tf.keras.losses.categorical_crossentropy,\n",
        "              optimizer=tf.keras.optimizers.Adam(1e-3),\n",
        "              metrics=['accuracy'])"
      ],
      "execution_count": null,
      "outputs": []
    },
    {
      "cell_type": "code",
      "metadata": {
        "colab": {
          "base_uri": "https://localhost:8080/"
        },
        "id": "XbFollCkzc7b",
        "outputId": "94a9e5c2-6f8b-49fe-e018-e1a4486718e7"
      },
      "source": [
        "# TRAINING --------------------------------------------------\n",
        "\n",
        "epochs = 300\n",
        "\n",
        "es = EarlyStopping(monitor='val_accuracy', mode='max', verbose=1, patience=15, restore_best_weights=True)\n",
        "\n",
        "h = model.fit(\n",
        "        x=X_train, y=y_train, \n",
        "        batch_size=44,\n",
        "        epochs=epochs,\n",
        "        callbacks = [es], \n",
        "        validation_data=(X_test, y_test)\n",
        ")"
      ],
      "execution_count": null,
      "outputs": [
        {
          "output_type": "stream",
          "name": "stdout",
          "text": [
            "Epoch 1/300\n",
            "10/10 [==============================] - 2s 141ms/step - loss: 0.9949 - accuracy: 0.3806 - val_loss: 0.9183 - val_accuracy: 0.4091\n",
            "Epoch 2/300\n",
            "10/10 [==============================] - 1s 94ms/step - loss: 0.7752 - accuracy: 0.7189 - val_loss: 0.6616 - val_accuracy: 0.7677\n",
            "Epoch 3/300\n",
            "10/10 [==============================] - 1s 96ms/step - loss: 0.5657 - accuracy: 0.7886 - val_loss: 0.5898 - val_accuracy: 0.7828\n",
            "Epoch 4/300\n",
            "10/10 [==============================] - 1s 95ms/step - loss: 0.4030 - accuracy: 0.8408 - val_loss: 0.6479 - val_accuracy: 0.7576\n",
            "Epoch 5/300\n",
            "10/10 [==============================] - 1s 96ms/step - loss: 0.5186 - accuracy: 0.8159 - val_loss: 0.7652 - val_accuracy: 0.6667\n",
            "Epoch 6/300\n",
            "10/10 [==============================] - 1s 96ms/step - loss: 0.4309 - accuracy: 0.8184 - val_loss: 0.6312 - val_accuracy: 0.7525\n",
            "Epoch 7/300\n",
            "10/10 [==============================] - 1s 97ms/step - loss: 0.4245 - accuracy: 0.8060 - val_loss: 0.4839 - val_accuracy: 0.8030\n",
            "Epoch 8/300\n",
            "10/10 [==============================] - 1s 97ms/step - loss: 0.3716 - accuracy: 0.8358 - val_loss: 0.4813 - val_accuracy: 0.8434\n",
            "Epoch 9/300\n",
            "10/10 [==============================] - 1s 97ms/step - loss: 0.3278 - accuracy: 0.8607 - val_loss: 0.5288 - val_accuracy: 0.7828\n",
            "Epoch 10/300\n",
            "10/10 [==============================] - 1s 96ms/step - loss: 0.3777 - accuracy: 0.8383 - val_loss: 0.4536 - val_accuracy: 0.8283\n",
            "Epoch 11/300\n",
            "10/10 [==============================] - 1s 95ms/step - loss: 0.3384 - accuracy: 0.8607 - val_loss: 0.4661 - val_accuracy: 0.8283\n",
            "Epoch 12/300\n",
            "10/10 [==============================] - 1s 114ms/step - loss: 0.2930 - accuracy: 0.8930 - val_loss: 0.4964 - val_accuracy: 0.7980\n",
            "Epoch 13/300\n",
            "10/10 [==============================] - 1s 96ms/step - loss: 0.3372 - accuracy: 0.8582 - val_loss: 0.4524 - val_accuracy: 0.8333\n",
            "Epoch 14/300\n",
            "10/10 [==============================] - 1s 96ms/step - loss: 0.3139 - accuracy: 0.8856 - val_loss: 0.4665 - val_accuracy: 0.8283\n",
            "Epoch 15/300\n",
            "10/10 [==============================] - 1s 96ms/step - loss: 0.3205 - accuracy: 0.8756 - val_loss: 0.4788 - val_accuracy: 0.8182\n",
            "Epoch 16/300\n",
            "10/10 [==============================] - 1s 97ms/step - loss: 0.3212 - accuracy: 0.8507 - val_loss: 0.4340 - val_accuracy: 0.8232\n",
            "Epoch 17/300\n",
            "10/10 [==============================] - 1s 95ms/step - loss: 0.2916 - accuracy: 0.8881 - val_loss: 0.4378 - val_accuracy: 0.8283\n",
            "Epoch 18/300\n",
            "10/10 [==============================] - 1s 95ms/step - loss: 0.2901 - accuracy: 0.8731 - val_loss: 0.5158 - val_accuracy: 0.8030\n",
            "Epoch 19/300\n",
            "10/10 [==============================] - 1s 94ms/step - loss: 0.3147 - accuracy: 0.8507 - val_loss: 0.4785 - val_accuracy: 0.8232\n",
            "Epoch 20/300\n",
            "10/10 [==============================] - 1s 98ms/step - loss: 0.2784 - accuracy: 0.8731 - val_loss: 0.4630 - val_accuracy: 0.8232\n",
            "Epoch 21/300\n",
            "10/10 [==============================] - 1s 96ms/step - loss: 0.2788 - accuracy: 0.8856 - val_loss: 0.4468 - val_accuracy: 0.8333\n",
            "Epoch 22/300\n",
            "10/10 [==============================] - 1s 96ms/step - loss: 0.2476 - accuracy: 0.9179 - val_loss: 0.4505 - val_accuracy: 0.8131\n",
            "Epoch 23/300\n",
            " 9/10 [==========================>...] - ETA: 0s - loss: 0.3203 - accuracy: 0.8712Restoring model weights from the end of the best epoch: 8.\n",
            "10/10 [==============================] - 1s 97ms/step - loss: 0.3204 - accuracy: 0.8706 - val_loss: 0.4644 - val_accuracy: 0.8434\n",
            "Epoch 00023: early stopping\n"
          ]
        }
      ]
    },
    {
      "cell_type": "code",
      "metadata": {
        "colab": {
          "base_uri": "https://localhost:8080/",
          "height": 295
        },
        "id": "_U0Ua6ldzgPw",
        "outputId": "0ac79cf4-50bf-4948-d746-d96ad1947d25"
      },
      "source": [
        "import matplotlib.pyplot as plt\n",
        "\n",
        "plt.plot(h.history['accuracy'])\n",
        "plt.plot(h.history['val_accuracy'])\n",
        "plt.plot(h.history['loss'])\n",
        "plt.title('Model accuracy')\n",
        "plt.ylabel('accuracy')\n",
        "plt.xlabel('epoch')\n",
        "plt.legend(['training', 'validation','loss'], loc='upper right')\n",
        "plt.show()"
      ],
      "execution_count": null,
      "outputs": [
        {
          "output_type": "display_data",
          "data": {
            "image/png": "[encoded data removed]",
            "text/plain": [
              "<Figure size 432x288 with 1 Axes>"
            ]
          },
          "metadata": {
            "needs_background": "light"
          }
        }
      ]
    },
    {
      "cell_type": "code",
      "metadata": {
        "id": "vF6wK0a9T34K"
      },
      "source": [
        ""
      ],
      "execution_count": null,
      "outputs": []
    }
  ]
}